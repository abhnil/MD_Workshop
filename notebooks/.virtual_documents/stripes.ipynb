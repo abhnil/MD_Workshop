





from pyesgf.search import SearchConnection
import xarray as xr
import matplotlib.pyplot as plt
import numpy as np





conn = SearchConnection('http://esgf-node.llnl.gov/esg-search',distrib=False)





ctx = conn.new_context(
    facets='project,experiment_id',
    project='CMIP6',
    table_id='Amon',
    institution_id="CSIRO-ARCCSS",
    experiment_id='historical',
    source_id='ACCESS-CM2',
    variable='tas',
    variant_label='r1i1p1f1',
)





result = ctx.search()[0]
files = result.file_context().search()
opendap_url=files[0].opendap_url
opendap_url





de = xr.open_dataset(opendap_url,chunks={'time':480})
de





def global_mean(ds):
    lat = ds.lat
    weight = np.cos(np.deg2rad(lat))
    weight /= weight.mean()
    other_dims = set(ds.dims) - {'time'}
    return (ds * weight).mean(other_dims)





dtn=global_mean(de.tas.sel(time=slice('1981-01-01','2010-12-31'))).groupby('time.year').mean()
dtn=dtn.load()





dtn.plot()





temperature = dtn
nx = len(temperature)
x = np.arange(len(temperature))
y = np.array([0, 1])
temperature = np.vstack([temperature, temperature])

figure, axes = plt.subplots(figsize=(10, 5))
axes.pcolormesh(x, y, temperature, cmap='bwr', shading='auto')
axes.set_axis_off()
